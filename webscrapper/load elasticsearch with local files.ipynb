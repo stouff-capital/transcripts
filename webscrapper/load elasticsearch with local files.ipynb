{
 "cells": [
  {
   "cell_type": "code",
   "execution_count": null,
   "metadata": {},
   "outputs": [],
   "source": [
    "%load_ext dotenv\n",
    "\n",
    "# Use find_dotenv to locate the file\n",
    "%dotenv\n",
    "\n",
    "import os"
   ]
  },
  {
   "cell_type": "code",
   "execution_count": null,
   "metadata": {},
   "outputs": [],
   "source": [
    "import json\n",
    "import datetime"
   ]
  },
  {
   "cell_type": "code",
   "execution_count": null,
   "metadata": {},
   "outputs": [],
   "source": [
    "import requests\n",
    "from requests.auth import HTTPBasicAuth"
   ]
  },
  {
   "cell_type": "code",
   "execution_count": null,
   "metadata": {},
   "outputs": [],
   "source": [
    "auth=(os.getenv(\"ELASTICSEARCH_USER\"), os.getenv(\"ELASTICSEARCH_PASSWORD\"))"
   ]
  },
  {
   "cell_type": "code",
   "execution_count": null,
   "metadata": {},
   "outputs": [],
   "source": [
    "transcripts_folder = \"company_transcripts/\""
   ]
  },
  {
   "cell_type": "code",
   "execution_count": null,
   "metadata": {},
   "outputs": [],
   "source": [
    "from os import listdir\n",
    "from os.path import isfile, join\n",
    "transcripts_files = [f for f in listdir(transcripts_folder) if isfile(join(transcripts_folder, f)) and f.split(\".\")[-1] == 'json']\n",
    "transcripts_files[0:5]"
   ]
  },
  {
   "cell_type": "code",
   "execution_count": null,
   "metadata": {},
   "outputs": [],
   "source": [
    "for transcripts_file in transcripts_files:\n",
    "    with open(f'{transcripts_folder}/{transcripts_file}') as f:\n",
    "        for row in f:\n",
    "            data = json.loads(row)\n",
    "\n",
    "            if 'title' in data and 'url' in data and 'date' in data and 'body' in data and len(data['date'])>=10 and len(data['body']) > 0 :\n",
    "                final_data = {\n",
    "                    'company': data['company'],\n",
    "                    'title': data['title'],\n",
    "                    'url': data['url'],\n",
    "                    'date': data['date'][0:10],\n",
    "                    'text': \" \".join(data['body'])\n",
    "                }\n",
    "                \n",
    "                query = {\n",
    "                    \"query\": {\n",
    "                        \"match_phrase\" : {\n",
    "                            \"url\" : data['url']\n",
    "                        }\n",
    "                    }\n",
    "                }\n",
    "                res = requests.get(f'{os.getenv(\"ELASTICSEARCH_URL\")}/transcripts/sa/_search', json=query, auth=auth)\n",
    "                dic_res = json.loads(res.content)\n",
    "                if ('error' in dic_res and dic_res['error']['root_cause'][0]['type'] == 'index_not_found_exception') or dic_res['hits']['total'] == 0:\n",
    "                    res = requests.post(f'{os.getenv(\"ELASTICSEARCH_URL\")}/transcripts/sa/', auth=auth, json=final_data)\n",
    "                    print(f'{datetime.datetime.now().isoformat()} {data[\"company\"]} {res.status_code}')\n",
    "                else:\n",
    "                    print(f'{datetime.datetime.now().isoformat()} {data[\"company\"]} {data[\"url\"]} already in db')   "
   ]
  },
  {
   "cell_type": "code",
   "execution_count": null,
   "metadata": {},
   "outputs": [],
   "source": []
  }
 ],
 "metadata": {
  "kernelspec": {
   "display_name": "Python 3",
   "language": "python",
   "name": "python3"
  },
  "language_info": {
   "codemirror_mode": {
    "name": "ipython",
    "version": 3
   },
   "file_extension": ".py",
   "mimetype": "text/x-python",
   "name": "python",
   "nbconvert_exporter": "python",
   "pygments_lexer": "ipython3",
   "version": "3.6.6"
  }
 },
 "nbformat": 4,
 "nbformat_minor": 2
}
