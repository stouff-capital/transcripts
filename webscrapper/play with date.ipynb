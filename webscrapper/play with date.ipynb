{
 "cells": [
  {
   "cell_type": "markdown",
   "metadata": {},
   "source": [
    "input: Yesterday, 6:44 PM\n",
    "\n",
    "target: Wed, Jun. 13"
   ]
  },
  {
   "cell_type": "code",
   "execution_count": 1,
   "metadata": {},
   "outputs": [],
   "source": [
    "date_txt = \"Yesterday, 6:44 PM\""
   ]
  },
  {
   "cell_type": "code",
   "execution_count": 8,
   "metadata": {},
   "outputs": [
    {
     "name": "stdout",
     "output_type": "stream",
     "text": [
      "Fri, Jul. 13\n"
     ]
    }
   ],
   "source": [
    "from datetime import date, timedelta\n",
    "yesterday = date.today() - timedelta(1)\n",
    "yesterday.strftime('%a, %b. %d')\n",
    "\n",
    "if \"Yesterday\" in date_txt:\n",
    "    print( yesterday.strftime('%a, %b. %d') )"
   ]
  }
 ],
 "metadata": {
  "kernelspec": {
   "display_name": "Python 3",
   "language": "python",
   "name": "python3"
  },
  "language_info": {
   "codemirror_mode": {
    "name": "ipython",
    "version": 3
   },
   "file_extension": ".py",
   "mimetype": "text/x-python",
   "name": "python",
   "nbconvert_exporter": "python",
   "pygments_lexer": "ipython3",
   "version": "3.6.6"
  }
 },
 "nbformat": 4,
 "nbformat_minor": 2
}
