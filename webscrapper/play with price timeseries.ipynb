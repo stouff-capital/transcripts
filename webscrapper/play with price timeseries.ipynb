{
 "cells": [
  {
   "cell_type": "code",
   "execution_count": null,
   "metadata": {},
   "outputs": [],
   "source": [
    "%load_ext dotenv\n",
    "\n",
    "# Use find_dotenv to locate the file\n",
    "%dotenv\n",
    "\n",
    "import os"
   ]
  },
  {
   "cell_type": "code",
   "execution_count": null,
   "metadata": {},
   "outputs": [],
   "source": [
    "import pandas as pd\n",
    "import json\n",
    "import requests\n",
    "import datetime"
   ]
  },
  {
   "cell_type": "code",
   "execution_count": 8,
   "metadata": {},
   "outputs": [],
   "source": [
    "transcripts_folder = \"company_transcripts/\""
   ]
  },
  {
   "cell_type": "code",
   "execution_count": 2,
   "metadata": {},
   "outputs": [
    {
     "data": {
      "text/plain": [
       "['DLTR.json', 'IDXX.json', 'VTR.json', 'KEY.json', 'WLTW.json']"
      ]
     },
     "execution_count": 2,
     "metadata": {},
     "output_type": "execute_result"
    }
   ],
   "source": [
    "from os import listdir\n",
    "from os.path import isfile, join\n",
    "transcripts_files = [f for f in listdir(transcripts_folder) if isfile(join(transcripts_folder, f)) and f.split(\".\")[-1] == 'json']\n",
    "transcripts_files[0:5]"
   ]
  },
  {
   "cell_type": "code",
   "execution_count": null,
   "metadata": {},
   "outputs": [],
   "source": [
    "symbol = \"MSFT\""
   ]
  },
  {
   "cell_type": "code",
   "execution_count": null,
   "metadata": {
    "scrolled": true
   },
   "outputs": [],
   "source": [
    "#res = requests.get(f'https://www.alphavantage.co/query?function=TIME_SERIES_DAILY_ADJUSTED&symbol={symbol}&outputsize=full&apikey={os.getenv(\"ALPHAVANTAGE_API\")}')\n",
    "res = requests.get(f'https://www.alphavantage.co/query?function=TIME_SERIES_DAILY_ADJUSTED&symbol={symbol}&apikey={os.getenv(\"ALPHAVANTAGE_API\")}')\n",
    "res.content"
   ]
  },
  {
   "cell_type": "code",
   "execution_count": null,
   "metadata": {},
   "outputs": [],
   "source": [
    "dict_data = json.loads(res.content)\n",
    "dict_data"
   ]
  },
  {
   "cell_type": "code",
   "execution_count": null,
   "metadata": {},
   "outputs": [],
   "source": [
    "dict_data.keys()"
   ]
  },
  {
   "cell_type": "code",
   "execution_count": null,
   "metadata": {},
   "outputs": [],
   "source": [
    "for tmp_field in dict_data.keys():\n",
    "    if 'Meta' in tmp_field:\n",
    "        hdr_metadata = tmp_field\n",
    "    elif 'Time' in tmp_field and 'Serie' in tmp_field:\n",
    "        hdr_ts = tmp_field"
   ]
  },
  {
   "cell_type": "markdown",
   "metadata": {},
   "source": [
    "# retrieve symbol from data"
   ]
  },
  {
   "cell_type": "code",
   "execution_count": null,
   "metadata": {},
   "outputs": [],
   "source": [
    "dict_data[hdr_metadata].keys()"
   ]
  },
  {
   "cell_type": "code",
   "execution_count": null,
   "metadata": {},
   "outputs": [],
   "source": [
    "for tmp_field in dict_data[hdr_metadata].keys():\n",
    "    if 'Symbol' in tmp_field:\n",
    "        hdr_symbol = tmp_field\n",
    "        break"
   ]
  },
  {
   "cell_type": "code",
   "execution_count": null,
   "metadata": {},
   "outputs": [],
   "source": [
    "tmp_symbol = dict_data[hdr_metadata][hdr_symbol]\n",
    "tmp_symbol"
   ]
  },
  {
   "cell_type": "markdown",
   "metadata": {},
   "source": [
    "# timeseries"
   ]
  },
  {
   "cell_type": "code",
   "execution_count": null,
   "metadata": {},
   "outputs": [],
   "source": [
    "len(dict_data[hdr_ts])"
   ]
  },
  {
   "cell_type": "code",
   "execution_count": null,
   "metadata": {},
   "outputs": [],
   "source": [
    "dict_data[hdr_ts].keys()"
   ]
  },
  {
   "cell_type": "code",
   "execution_count": null,
   "metadata": {},
   "outputs": [],
   "source": [
    "for date_tmp in dict_data[hdr_ts]:\n",
    "    data_dim = dict_data[hdr_ts][date_tmp].keys()\n",
    "    break\n",
    "data_dim"
   ]
  },
  {
   "cell_type": "code",
   "execution_count": null,
   "metadata": {},
   "outputs": [],
   "source": [
    "for tmp_key in data_dim:\n",
    "    if 'open' in tmp_key:\n",
    "        hdr_open = tmp_key\n",
    "    elif 'high' in tmp_key:\n",
    "        hdr_high = tmp_key\n",
    "    elif 'low' in tmp_key:\n",
    "        hdr_low = tmp_key\n",
    "    elif 'close' in tmp_key and 'adjusted' not in tmp_key:\n",
    "        hdr_close = tmp_key\n",
    "    elif 'adjusted close' in tmp_key:\n",
    "        hdr_adjclose = tmp_key\n",
    "    elif 'volume' in tmp_key:\n",
    "        hdr_volume = tmp_key\n",
    "    elif 'dividend' in tmp_key:\n",
    "        hdr_dividend = tmp_key\n",
    "    elif 'split' in tmp_key:\n",
    "        hdr_split = tmp_key\n",
    "\n",
    "print(hdr_open, hdr_high, hdr_low, hdr_close, hdr_adjclose, hdr_volume, hdr_dividend, hdr_split)"
   ]
  },
  {
   "cell_type": "code",
   "execution_count": null,
   "metadata": {},
   "outputs": [],
   "source": [
    "list_data = []\n",
    "\n",
    "bridge = {\n",
    "    'open': hdr_open,\n",
    "    'high': hdr_high,\n",
    "    'low': hdr_low,\n",
    "    'close': hdr_close,\n",
    "    'adjclose': hdr_adjclose,\n",
    "    'volume': hdr_volume,\n",
    "    'div': hdr_dividend,\n",
    "    'split': hdr_split,\n",
    "}\n",
    "\n",
    "for tmp_date in dict_data[hdr_ts]:\n",
    "    \n",
    "    if tmp_date != datetime.date.today().strftime('%Y-%m-%d'):\n",
    "    \n",
    "        row = {\n",
    "            'symbol': tmp_symbol,\n",
    "            'dateeod': tmp_date,\n",
    "        }\n",
    "\n",
    "        for tmp_conv_num in bridge:\n",
    "            try:\n",
    "                row[tmp_conv_num] = float(dict_data[hdr_ts][tmp_date][bridge[tmp_conv_num]])\n",
    "            except:\n",
    "                row[tmp_conv_num] = None\n",
    "\n",
    "\n",
    "        list_data.append( row )\n",
    "        #break\n",
    "\n",
    "list_data"
   ]
  },
  {
   "cell_type": "code",
   "execution_count": null,
   "metadata": {},
   "outputs": [],
   "source": [
    "df = pd.DataFrame(list_data)\n",
    "df.head()"
   ]
  },
  {
   "cell_type": "code",
   "execution_count": null,
   "metadata": {},
   "outputs": [],
   "source": []
  }
 ],
 "metadata": {
  "kernelspec": {
   "display_name": "Python 3",
   "language": "python",
   "name": "python3"
  },
  "language_info": {
   "codemirror_mode": {
    "name": "ipython",
    "version": 3
   },
   "file_extension": ".py",
   "mimetype": "text/x-python",
   "name": "python",
   "nbconvert_exporter": "python",
   "pygments_lexer": "ipython3",
   "version": "3.6.6"
  }
 },
 "nbformat": 4,
 "nbformat_minor": 2
}
