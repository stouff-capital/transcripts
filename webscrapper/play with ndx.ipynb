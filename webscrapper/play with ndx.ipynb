{
 "cells": [
  {
   "cell_type": "code",
   "execution_count": 1,
   "metadata": {},
   "outputs": [],
   "source": [
    "import pandas as pd"
   ]
  },
  {
   "cell_type": "code",
   "execution_count": 3,
   "metadata": {},
   "outputs": [
    {
     "data": {
      "text/html": [
       "<div>\n",
       "<style scoped>\n",
       "    .dataframe tbody tr th:only-of-type {\n",
       "        vertical-align: middle;\n",
       "    }\n",
       "\n",
       "    .dataframe tbody tr th {\n",
       "        vertical-align: top;\n",
       "    }\n",
       "\n",
       "    .dataframe thead th {\n",
       "        text-align: right;\n",
       "    }\n",
       "</style>\n",
       "<table border=\"1\" class=\"dataframe\">\n",
       "  <thead>\n",
       "    <tr style=\"text-align: right;\">\n",
       "      <th></th>\n",
       "      <th>Ticker</th>\n",
       "      <th>Name</th>\n",
       "      <th>Price</th>\n",
       "      <th>Curr Shares Out</th>\n",
       "      <th>marketcap</th>\n",
       "      <th>symbol</th>\n",
       "    </tr>\n",
       "  </thead>\n",
       "  <tbody>\n",
       "    <tr>\n",
       "      <th>0</th>\n",
       "      <td>AAPL UW Equity</td>\n",
       "      <td>Apple Inc</td>\n",
       "      <td>191.3300</td>\n",
       "      <td>4915138048</td>\n",
       "      <td>940000000000</td>\n",
       "      <td>AAPL</td>\n",
       "    </tr>\n",
       "    <tr>\n",
       "      <th>1</th>\n",
       "      <td>AMZN UW Equity</td>\n",
       "      <td>Amazon.com Inc</td>\n",
       "      <td>1813.0300</td>\n",
       "      <td>485226912</td>\n",
       "      <td>880000000000</td>\n",
       "      <td>AMZN</td>\n",
       "    </tr>\n",
       "    <tr>\n",
       "      <th>2</th>\n",
       "      <td>MSFT UW Equity</td>\n",
       "      <td>Microsoft Corp</td>\n",
       "      <td>105.4300</td>\n",
       "      <td>7683197440</td>\n",
       "      <td>810000000000</td>\n",
       "      <td>MSFT</td>\n",
       "    </tr>\n",
       "    <tr>\n",
       "      <th>3</th>\n",
       "      <td>FB UW Equity</td>\n",
       "      <td>Facebook Inc</td>\n",
       "      <td>207.3200</td>\n",
       "      <td>2398606080</td>\n",
       "      <td>497000000000</td>\n",
       "      <td>FB</td>\n",
       "    </tr>\n",
       "    <tr>\n",
       "      <th>4</th>\n",
       "      <td>GOOG UW Equity</td>\n",
       "      <td>Alphabet Inc</td>\n",
       "      <td>1188.8199</td>\n",
       "      <td>348952224</td>\n",
       "      <td>415000000000</td>\n",
       "      <td>GOOG</td>\n",
       "    </tr>\n",
       "  </tbody>\n",
       "</table>\n",
       "</div>"
      ],
      "text/plain": [
       "           Ticker            Name      Price  Curr Shares Out     marketcap  \\\n",
       "0  AAPL UW Equity       Apple Inc   191.3300       4915138048  940000000000   \n",
       "1  AMZN UW Equity  Amazon.com Inc  1813.0300        485226912  880000000000   \n",
       "2  MSFT UW Equity  Microsoft Corp   105.4300       7683197440  810000000000   \n",
       "3    FB UW Equity    Facebook Inc   207.3200       2398606080  497000000000   \n",
       "4  GOOG UW Equity    Alphabet Inc  1188.8199        348952224  415000000000   \n",
       "\n",
       "  symbol  \n",
       "0   AAPL  \n",
       "1   AMZN  \n",
       "2   MSFT  \n",
       "3     FB  \n",
       "4   GOOG  "
      ]
     },
     "execution_count": 3,
     "metadata": {},
     "output_type": "execute_result"
    }
   ],
   "source": [
    "df_ndx = pd.read_csv('ndx.csv')\n",
    "df_ndx.head()"
   ]
  },
  {
   "cell_type": "code",
   "execution_count": 4,
   "metadata": {},
   "outputs": [
    {
     "data": {
      "text/html": [
       "<div>\n",
       "<style scoped>\n",
       "    .dataframe tbody tr th:only-of-type {\n",
       "        vertical-align: middle;\n",
       "    }\n",
       "\n",
       "    .dataframe tbody tr th {\n",
       "        vertical-align: top;\n",
       "    }\n",
       "\n",
       "    .dataframe thead th {\n",
       "        text-align: right;\n",
       "    }\n",
       "</style>\n",
       "<table border=\"1\" class=\"dataframe\">\n",
       "  <thead>\n",
       "    <tr style=\"text-align: right;\">\n",
       "      <th></th>\n",
       "      <th>Ticker</th>\n",
       "      <th>Name</th>\n",
       "      <th>Price</th>\n",
       "      <th>Curr Shares Out</th>\n",
       "      <th>marketcap</th>\n",
       "      <th>symbol</th>\n",
       "    </tr>\n",
       "  </thead>\n",
       "  <tbody>\n",
       "    <tr>\n",
       "      <th>0</th>\n",
       "      <td>AAPL UW Equity</td>\n",
       "      <td>Apple Inc</td>\n",
       "      <td>191.3300</td>\n",
       "      <td>4915138048</td>\n",
       "      <td>940000000000</td>\n",
       "      <td>AAPL</td>\n",
       "    </tr>\n",
       "    <tr>\n",
       "      <th>1</th>\n",
       "      <td>AMZN UW Equity</td>\n",
       "      <td>Amazon.com Inc</td>\n",
       "      <td>1813.0300</td>\n",
       "      <td>485226912</td>\n",
       "      <td>880000000000</td>\n",
       "      <td>AMZN</td>\n",
       "    </tr>\n",
       "    <tr>\n",
       "      <th>2</th>\n",
       "      <td>MSFT UW Equity</td>\n",
       "      <td>Microsoft Corp</td>\n",
       "      <td>105.4300</td>\n",
       "      <td>7683197440</td>\n",
       "      <td>810000000000</td>\n",
       "      <td>MSFT</td>\n",
       "    </tr>\n",
       "    <tr>\n",
       "      <th>3</th>\n",
       "      <td>FB UW Equity</td>\n",
       "      <td>Facebook Inc</td>\n",
       "      <td>207.3200</td>\n",
       "      <td>2398606080</td>\n",
       "      <td>497000000000</td>\n",
       "      <td>FB</td>\n",
       "    </tr>\n",
       "    <tr>\n",
       "      <th>4</th>\n",
       "      <td>GOOG UW Equity</td>\n",
       "      <td>Alphabet Inc</td>\n",
       "      <td>1188.8199</td>\n",
       "      <td>348952224</td>\n",
       "      <td>415000000000</td>\n",
       "      <td>GOOG</td>\n",
       "    </tr>\n",
       "  </tbody>\n",
       "</table>\n",
       "</div>"
      ],
      "text/plain": [
       "           Ticker            Name      Price  Curr Shares Out     marketcap  \\\n",
       "0  AAPL UW Equity       Apple Inc   191.3300       4915138048  940000000000   \n",
       "1  AMZN UW Equity  Amazon.com Inc  1813.0300        485226912  880000000000   \n",
       "2  MSFT UW Equity  Microsoft Corp   105.4300       7683197440  810000000000   \n",
       "3    FB UW Equity    Facebook Inc   207.3200       2398606080  497000000000   \n",
       "4  GOOG UW Equity    Alphabet Inc  1188.8199        348952224  415000000000   \n",
       "\n",
       "  symbol  \n",
       "0   AAPL  \n",
       "1   AMZN  \n",
       "2   MSFT  \n",
       "3     FB  \n",
       "4   GOOG  "
      ]
     },
     "execution_count": 4,
     "metadata": {},
     "output_type": "execute_result"
    }
   ],
   "source": [
    "df_spx = pd.read_csv('spx.csv')\n",
    "df_spx.head()"
   ]
  },
  {
   "cell_type": "code",
   "execution_count": 6,
   "metadata": {},
   "outputs": [
    {
     "data": {
      "text/plain": [
       "18"
      ]
     },
     "execution_count": 6,
     "metadata": {},
     "output_type": "execute_result"
    }
   ],
   "source": [
    "only_ndx = [item for item in df_ndx.symbol.values if item not in df_spx.symbol.values]\n",
    "len(only_ndx)"
   ]
  },
  {
   "cell_type": "code",
   "execution_count": 7,
   "metadata": {},
   "outputs": [
    {
     "data": {
      "text/plain": [
       "['ASML',\n",
       " 'BIDU',\n",
       " 'VOD',\n",
       " 'TSLA',\n",
       " 'SHPG',\n",
       " 'TMUS',\n",
       " 'JD',\n",
       " 'NTES',\n",
       " 'SIRI',\n",
       " 'CTRP',\n",
       " 'WDAY',\n",
       " 'BMRN',\n",
       " 'CHKP',\n",
       " 'MXIM',\n",
       " 'LBTYK',\n",
       " 'MELI',\n",
       " 'QRTEA',\n",
       " 'LBTYA']"
      ]
     },
     "execution_count": 7,
     "metadata": {},
     "output_type": "execute_result"
    }
   ],
   "source": [
    "only_ndx"
   ]
  },
  {
   "cell_type": "code",
   "execution_count": null,
   "metadata": {},
   "outputs": [],
   "source": []
  }
 ],
 "metadata": {
  "kernelspec": {
   "display_name": "Python 3",
   "language": "python",
   "name": "python3"
  },
  "language_info": {
   "codemirror_mode": {
    "name": "ipython",
    "version": 3
   },
   "file_extension": ".py",
   "mimetype": "text/x-python",
   "name": "python",
   "nbconvert_exporter": "python",
   "pygments_lexer": "ipython3",
   "version": "3.6.6"
  }
 },
 "nbformat": 4,
 "nbformat_minor": 2
}
