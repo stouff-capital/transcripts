{
 "cells": [
  {
   "cell_type": "code",
   "execution_count": null,
   "metadata": {},
   "outputs": [],
   "source": [
    "%load_ext dotenv\n",
    "\n",
    "# Use find_dotenv to locate the file\n",
    "%dotenv\n",
    "\n",
    "import os"
   ]
  },
  {
   "cell_type": "code",
   "execution_count": null,
   "metadata": {},
   "outputs": [],
   "source": [
    "import pandas as pd\n",
    "import json\n",
    "import requests\n",
    "import datetime"
   ]
  },
  {
   "cell_type": "code",
   "execution_count": null,
   "metadata": {},
   "outputs": [],
   "source": [
    "transcripts_folder = \"company_transcripts/\"\n",
    "transcripts_folder_patch = \"company_transcripts_patch/\""
   ]
  },
  {
   "cell_type": "code",
   "execution_count": null,
   "metadata": {},
   "outputs": [],
   "source": [
    "import time\n",
    "from pathlib import Path\n",
    "\n",
    "from os import listdir\n",
    "from os.path import isfile, join\n",
    "transcripts_files = [f for f in listdir(transcripts_folder) if isfile(join(transcripts_folder, f)) and f.split(\".\")[-1] == 'json']\n",
    "\n",
    "transcripts_files[0:5]"
   ]
  },
  {
   "cell_type": "code",
   "execution_count": null,
   "metadata": {},
   "outputs": [],
   "source": [
    "for file in transcripts_files[:]:\n",
    "    with open(f'{transcripts_folder}{file}') as f:\n",
    "        check_urls = []\n",
    "        need_new_file = False\n",
    "        unique_row = []\n",
    "        for t in f:\n",
    "            data = json.loads(t)\n",
    "            \n",
    "            if data['url'] in check_urls:\n",
    "                need_new_file = True\n",
    "            else:\n",
    "                check_urls.append(data['url'])\n",
    "                unique_row.append(data)\n",
    "        \n",
    "        if need_new_file:\n",
    "            print(f'{file} found duplicates')\n",
    "            with open(f'{transcripts_folder_patch}{file}', 'w') as p:\n",
    "                for r in unique_row:\n",
    "                    p.write(json.dumps(r) + \"\\n\")"
   ]
  },
  {
   "cell_type": "code",
   "execution_count": null,
   "metadata": {},
   "outputs": [],
   "source": []
  }
 ],
 "metadata": {
  "kernelspec": {
   "display_name": "Python 3",
   "language": "python",
   "name": "python3"
  },
  "language_info": {
   "codemirror_mode": {
    "name": "ipython",
    "version": 3
   },
   "file_extension": ".py",
   "mimetype": "text/x-python",
   "name": "python",
   "nbconvert_exporter": "python",
   "pygments_lexer": "ipython3",
   "version": "3.6.6"
  }
 },
 "nbformat": 4,
 "nbformat_minor": 2
}
