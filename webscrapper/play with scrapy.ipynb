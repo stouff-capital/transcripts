{
 "cells": [
  {
   "cell_type": "code",
   "execution_count": null,
   "metadata": {},
   "outputs": [],
   "source": [
    "import pandas as pd"
   ]
  },
  {
   "cell_type": "code",
   "execution_count": null,
   "metadata": {},
   "outputs": [],
   "source": [
    "df = pd.read_csv(\"acdr_0614_0714.csv\")\n",
    "df.head()"
   ]
  },
  {
   "cell_type": "code",
   "execution_count": null,
   "metadata": {},
   "outputs": [],
   "source": [
    "list_tickers = df.ticker.values\n",
    "list_tickers[0:15]"
   ]
  },
  {
   "cell_type": "code",
   "execution_count": null,
   "metadata": {},
   "outputs": [],
   "source": [
    "for ticker in list_tickers[15:30]:\n",
    "    !scrapy crawl transcripts -a symbol=$ticker"
   ]
  },
  {
   "cell_type": "markdown",
   "metadata": {},
   "source": [
    "# s&p 500"
   ]
  },
  {
   "cell_type": "code",
   "execution_count": null,
   "metadata": {},
   "outputs": [],
   "source": [
    "df = pd.read_csv(\"spx.csv\")\n",
    "df.head()"
   ]
  },
  {
   "cell_type": "code",
   "execution_count": 9,
   "metadata": {},
   "outputs": [
    {
     "data": {
      "text/plain": [
       "array(['AAPL', 'AMZN', 'MSFT', 'FB', 'GOOG', 'JPM', 'GOOGL', 'XOM', 'JNJ',\n",
       "       'BAC', 'WFC', 'WMT', 'BRK/B', 'V', 'UNH', 'INTC', 'CVX', 'T', 'HD',\n",
       "       'PFE', 'VZ', 'MA', 'BA', 'PG', 'CSCO', 'ORCL', 'KO', 'NFLX', 'C',\n",
       "       'MRK', 'DIS', 'PEP', 'CMCSA', 'DWDP', 'ABBV', 'NVDA', 'IBM',\n",
       "       'AMGN', 'PM', 'ADBE', 'MCD', 'GE', 'MMM', 'MDT', 'TXN', 'MO',\n",
       "       'ABT', 'HON', 'CRM', 'UNP', 'ACN', 'PYPL', 'UTX', 'GILD', 'NKE',\n",
       "       'BKNG', 'LLY', 'COST', 'SLB', 'BMY', 'LMT', 'AVGO', 'QCOM', 'AXP',\n",
       "       'GS', 'MS', 'TMO', 'COP', 'CAT', 'USB', 'LOW', 'BLK', 'NEE', 'KHC',\n",
       "       'UPS', 'BIIB', 'EOG', 'CHTR', 'SBUX', 'CVS', 'DHR', 'SCHW', 'BDX',\n",
       "       'MU', 'SYK', 'PNC', 'WBA', 'OXY', 'ANTM', 'AMT', 'MDLZ', 'AET',\n",
       "       'FDX', 'CELG', 'ATVI', 'CB', 'ADP', 'AGN', 'TJX', 'ISRG', 'RTN',\n",
       "       'CL', 'GD', 'CME', 'CSX', 'DUK', 'NOC', 'GM', 'INTU', 'BK', 'SPG',\n",
       "       'SPGI', 'PSX', 'FOXA', 'ITW', 'AIG', 'SO', 'PX', 'CTSH', 'AMAT'],\n",
       "      dtype=object)"
      ]
     },
     "execution_count": 9,
     "metadata": {},
     "output_type": "execute_result"
    }
   ],
   "source": [
    "list_tickers = df.symbol.values\n",
    "list_tickers[0:120]"
   ]
  },
  {
   "cell_type": "code",
   "execution_count": null,
   "metadata": {
    "scrolled": true
   },
   "outputs": [],
   "source": [
    "for ticker in list_tickers[100:120]:\n",
    "    !scrapy crawl transcripts -a symbol=$ticker"
   ]
  },
  {
   "cell_type": "code",
   "execution_count": null,
   "metadata": {},
   "outputs": [],
   "source": []
  }
 ],
 "metadata": {
  "kernelspec": {
   "display_name": "Python 3",
   "language": "python",
   "name": "python3"
  },
  "language_info": {
   "codemirror_mode": {
    "name": "ipython",
    "version": 3
   },
   "file_extension": ".py",
   "mimetype": "text/x-python",
   "name": "python",
   "nbconvert_exporter": "python",
   "pygments_lexer": "ipython3",
   "version": "3.6.6"
  }
 },
 "nbformat": 4,
 "nbformat_minor": 2
}
